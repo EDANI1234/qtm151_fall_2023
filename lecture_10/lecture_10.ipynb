{
 "cells": [
  {
   "attachments": {},
   "cell_type": "markdown",
   "metadata": {},
   "source": [
    "# <span style=\"color:darkblue\"> Lecture 10: Application 1 - Linear Regression </span>\n",
    "\n",
    "<font size = \"5\">\n",
    "\n",
    "We will fit statistical models to data\n",
    "\n",
    "- I will give an intro with minimal stats background\n",
    "- See the optional lecture file for advanced users\n",
    "\n",
    "The primary goal is to practice previous commands"
   ]
  },
  {
   "attachments": {},
   "cell_type": "markdown",
   "metadata": {},
   "source": [
    "# <span style=\"color:darkblue\"> I. Import Libraries </span>\n"
   ]
  },
  {
   "cell_type": "code",
<<<<<<< Updated upstream
   "execution_count": 3,
=======
   "execution_count": 16,
>>>>>>> Stashed changes
   "metadata": {},
   "outputs": [],
   "source": [
    "# The \"pandas\" library is used for processing datasets\n",
    "# The \"numpy\" is for numeric observations and random numbers\n",
    "# The \"matplotlib.pyplot\" library is for creating graphs\n",
    "\n",
    "import pandas as pd\n",
    "import numpy as np\n",
    "import matplotlib.pyplot as plt\n"
   ]
  },
  {
   "attachments": {},
   "cell_type": "markdown",
   "metadata": {},
   "source": [
    "<font size = \"5\">\n",
    "\n",
    "Install the \"statsmodels\" library\n",
    "\n",
    "```conda activate qtm151```\n",
    "\n",
    "```conda install statsmodels```"
   ]
  },
  {
   "cell_type": "code",
<<<<<<< Updated upstream
   "execution_count": 1,
=======
   "execution_count": 17,
>>>>>>> Stashed changes
   "metadata": {},
   "outputs": [],
   "source": [
    "# We will \"alias\" two sublibraries in \"statsmodels\"\n",
    "# \"statsmodels.formula.api\" contains functions to estimate models\n",
    "# \"statsmodels.api\" contains general-use statistical options\n",
    "\n",
    "import statsmodels.api as sm\n",
    "import statsmodels.formula.api as smf\n"
   ]
  },
  {
   "attachments": {},
   "cell_type": "markdown",
   "metadata": {},
   "source": [
    "# <span style=\"color:darkblue\"> II. Generate simulated Data </span>\n",
    "\n",
    "<font size = \"5\">\n",
    "\n",
    "Create an empty dataset"
   ]
  },
  {
   "cell_type": "code",
<<<<<<< Updated upstream
   "execution_count": 4,
=======
   "execution_count": 18,
>>>>>>> Stashed changes
   "metadata": {},
   "outputs": [],
   "source": [
    "dataset = pd.DataFrame()"
   ]
  },
  {
   "attachments": {},
   "cell_type": "markdown",
   "metadata": {},
   "source": [
    "<font size = \"5\">\n",
    "\n",
    "Create two random variables of size ($n = 50$)"
   ]
  },
  {
   "cell_type": "code",
<<<<<<< Updated upstream
   "execution_count": 8,
=======
   "execution_count": 19,
>>>>>>> Stashed changes
   "metadata": {},
   "outputs": [],
   "source": [
    "n = 50\n",
    "np.random.seed(42)\n",
    "dataset[\"x\"] = np.random.normal(loc = 0,scale = 1, size = n)\n",
    "dataset[\"e\"] = np.random.normal(loc = 0,scale = 1, size = n)"
   ]
  },
  {
   "attachments": {},
   "cell_type": "markdown",
   "metadata": {},
   "source": [
    "<font size = \"5\">\n",
    "\n",
    "Create data from the linear model\n",
    "\n",
    "$ y = b_0 + b_1 x + e, \\qquad b_0 = 1, b_1 = 2.$"
   ]
  },
  {
   "cell_type": "code",
<<<<<<< Updated upstream
   "execution_count": 10,
=======
   "execution_count": 20,
>>>>>>> Stashed changes
   "metadata": {},
   "outputs": [],
   "source": [
    "# The number b0 is known as the \"intercept\"\n",
    "# The number b1 is known as the \"slope\"\n",
    "\n",
    "b0 = 1\n",
    "b1 = 2\n",
    "\n",
    "# We can compute formulas directly over dataset columns\n",
    "dataset[\"y\"] = b0 + b1 * dataset[\"x\"] + dataset[\"e\"]"
   ]
  },
  {
   "cell_type": "code",
   "execution_count": 46,
   "metadata": {},
   "outputs": [
    {
     "data": {
      "text/plain": [
       "0     2.317512\n",
       "1     0.338389\n",
       "2     1.618455\n",
       "3     4.657736\n",
       "4     1.562693\n",
       "5     1.463006\n",
       "6     3.319208\n",
       "7     2.225657\n",
       "8     0.392315\n",
       "9     3.060665\n",
       "10   -0.406010\n",
       "11   -0.117118\n",
       "12    0.377590\n",
       "13   -4.022767\n",
       "14   -1.637310\n",
       "15    1.231665\n",
       "16   -1.097672\n",
       "17    2.632028\n",
       "18   -0.454412\n",
       "19   -2.469727\n",
       "20    4.292693\n",
       "21    2.086484\n",
       "22    1.099230\n",
       "23   -0.284853\n",
       "24   -2.708511\n",
       "25    2.043748\n",
       "26   -1.214940\n",
       "27    1.452389\n",
       "28   -0.109517\n",
       "29   -1.570956\n",
       "30   -0.423085\n",
       "31    5.061669\n",
       "32    2.450900\n",
       "33   -1.633692\n",
       "34    1.836596\n",
       "35   -1.943444\n",
       "36    2.333129\n",
       "37   -2.590589\n",
       "38   -2.186132\n",
       "39    1.906990\n",
       "40    2.574011\n",
       "41    2.311382\n",
       "42    0.066650\n",
       "43    0.070130\n",
       "44   -2.349152\n",
       "45   -1.903203\n",
       "46    0.374843\n",
       "47    3.375300\n",
       "48    1.692350\n",
       "49   -2.760667\n",
       "Name: y, dtype: float64"
      ]
     },
     "execution_count": 46,
     "metadata": {},
     "output_type": "execute_result"
    }
   ],
   "source": [
    "dataset['y']"
   ]
  },
  {
   "attachments": {},
   "cell_type": "markdown",
   "metadata": {},
   "source": [
    "<font size = \"5\">\n",
    "\n",
    "Compute the theoretically best fit line\n",
    "\n",
    "$ p = b_0 + b_1 x$"
   ]
  },
  {
   "cell_type": "code",
<<<<<<< Updated upstream
   "execution_count": 12,
=======
   "execution_count": 21,
>>>>>>> Stashed changes
   "metadata": {},
   "outputs": [],
   "source": [
    "dataset[\"p\"] = b0 + b1*dataset[\"x\"]"
   ]
  },
  {
   "attachments": {},
   "cell_type": "markdown",
   "metadata": {},
   "source": [
    "<font size = \"5\">\n",
    "\n",
    "Plot the data"
   ]
  },
  {
   "cell_type": "code",
<<<<<<< Updated upstream
   "execution_count": 15,
=======
   "execution_count": 22,
>>>>>>> Stashed changes
   "metadata": {},
   "outputs": [
    {
     "data": {
      "image/png": "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",
      "text/plain": [
       "<Figure size 640x480 with 1 Axes>"
      ]
     },
     "metadata": {},
     "output_type": "display_data"
    }
   ],
   "source": [
    "plt.scatter(x = dataset[\"x\"], y = dataset[\"y\"])\n",
    "plt.plot(dataset[\"x\"],dataset[\"p\"], color = 'green')\n",
    "\n",
    "plt.xlabel(\"X Variable\")\n",
    "plt.ylabel(\"Y Variable\")\n",
    "plt.legend(labels = [\"Data points\", \"Best fit line\"])\n",
    "plt.show()\n"
   ]
  },
  {
   "attachments": {},
   "cell_type": "markdown",
   "metadata": {},
   "source": [
    "<font size = \"5\" >\n",
    "\n",
    "Try it yourself\n",
    "\n",
    "- Create a new dataset called $\\quad$```subset_above2``` \n",
    "- Subset records with $y \\ge 2$ using $\\quad$```.query()```\n",
    "- Count the original rows $\\quad$ ```len(dataset)```\n",
    "- Count the subsetted rows $\\quad$ ```len(subset_above2)```\n",
    "- Compute the proportion of subsetted observations\n"
   ]
  },
  {
   "cell_type": "code",
<<<<<<< Updated upstream
   "execution_count": 20,
=======
   "execution_count": 23,
>>>>>>> Stashed changes
   "metadata": {},
   "outputs": [
    {
     "name": "stdout",
     "output_type": "stream",
     "text": [
      "50\n",
      "15\n",
      "0.3\n"
     ]
    }
   ],
   "source": [
    "# Write your own code here\n",
    "subset_above = dataset.query('y>=2')\n",
    "print(len(dataset))\n",
    "print(len(subset_above))\n",
    "print(len(subset_above)/len(dataset))"
   ]
  },
  {
   "attachments": {},
   "cell_type": "markdown",
   "metadata": {},
   "source": [
    "<font size = \"5\">\n",
    "\n",
    "Try it yourself!\n",
    "\n",
    "- Store the sample mean of $y$ as $\\quad$ ```ybar```\n",
    "- Compute the standard deviation of $y$ $\\quad$ ```stdv_sample```\n",
    "- Use ```.query()``` to subset observations that satisfy\n",
    "\n",
    "$ \\qquad abs\\left(y - ybar \\right) \\le stdv\\_sample $\n",
    "\n",
    "$\\quad$ HINT: Use ```.mean()```,$\\text{ }$ ```.std()``` <br>\n",
    "$\\quad$ HINT: Use the globals  $\\ $ ```@xbar```,$\\text{ }$ ```@stdv_sample```"
   ]
  },
  {
   "cell_type": "code",
<<<<<<< Updated upstream
   "execution_count": 27,
=======
   "execution_count": 24,
>>>>>>> Stashed changes
   "metadata": {},
   "outputs": [
    {
     "data": {
      "text/html": [
       "<div>\n",
       "<style scoped>\n",
       "    .dataframe tbody tr th:only-of-type {\n",
       "        vertical-align: middle;\n",
       "    }\n",
       "\n",
       "    .dataframe tbody tr th {\n",
       "        vertical-align: top;\n",
       "    }\n",
       "\n",
       "    .dataframe thead th {\n",
       "        text-align: right;\n",
       "    }\n",
       "</style>\n",
       "<table border=\"1\" class=\"dataframe\">\n",
       "  <thead>\n",
       "    <tr style=\"text-align: right;\">\n",
       "      <th></th>\n",
       "      <th>x</th>\n",
       "      <th>e</th>\n",
       "      <th>y</th>\n",
       "      <th>p</th>\n",
       "    </tr>\n",
       "  </thead>\n",
       "  <tbody>\n",
       "    <tr>\n",
       "      <th>0</th>\n",
       "      <td>0.496714</td>\n",
       "      <td>0.324084</td>\n",
       "      <td>2.317512</td>\n",
       "      <td>1.993428</td>\n",
       "    </tr>\n",
       "    <tr>\n",
       "      <th>1</th>\n",
       "      <td>-0.138264</td>\n",
       "      <td>-0.385082</td>\n",
       "      <td>0.338389</td>\n",
       "      <td>0.723471</td>\n",
       "    </tr>\n",
       "    <tr>\n",
       "      <th>2</th>\n",
       "      <td>0.647689</td>\n",
       "      <td>-0.676922</td>\n",
       "      <td>1.618455</td>\n",
       "      <td>2.295377</td>\n",
       "    </tr>\n",
       "    <tr>\n",
       "      <th>4</th>\n",
       "      <td>-0.234153</td>\n",
       "      <td>1.031000</td>\n",
       "      <td>1.562693</td>\n",
       "      <td>0.531693</td>\n",
       "    </tr>\n",
       "    <tr>\n",
       "      <th>5</th>\n",
       "      <td>-0.234137</td>\n",
       "      <td>0.931280</td>\n",
       "      <td>1.463006</td>\n",
       "      <td>0.531726</td>\n",
       "    </tr>\n",
       "    <tr>\n",
       "      <th>7</th>\n",
       "      <td>0.767435</td>\n",
       "      <td>-0.309212</td>\n",
       "      <td>2.225657</td>\n",
       "      <td>2.534869</td>\n",
       "    </tr>\n",
       "    <tr>\n",
       "      <th>8</th>\n",
       "      <td>-0.469474</td>\n",
       "      <td>0.331263</td>\n",
       "      <td>0.392315</td>\n",
       "      <td>0.061051</td>\n",
       "    </tr>\n",
       "    <tr>\n",
       "      <th>10</th>\n",
       "      <td>-0.463418</td>\n",
       "      <td>-0.479174</td>\n",
       "      <td>-0.406010</td>\n",
       "      <td>0.073165</td>\n",
       "    </tr>\n",
       "    <tr>\n",
       "      <th>11</th>\n",
       "      <td>-0.465730</td>\n",
       "      <td>-0.185659</td>\n",
       "      <td>-0.117118</td>\n",
       "      <td>0.068540</td>\n",
       "    </tr>\n",
       "    <tr>\n",
       "      <th>12</th>\n",
       "      <td>0.241962</td>\n",
       "      <td>-1.106335</td>\n",
       "      <td>0.377590</td>\n",
       "      <td>1.483925</td>\n",
       "    </tr>\n",
       "    <tr>\n",
       "      <th>15</th>\n",
       "      <td>-0.562288</td>\n",
       "      <td>1.356240</td>\n",
       "      <td>1.231665</td>\n",
       "      <td>-0.124575</td>\n",
       "    </tr>\n",
       "    <tr>\n",
       "      <th>16</th>\n",
       "      <td>-1.012831</td>\n",
       "      <td>-0.072010</td>\n",
       "      <td>-1.097672</td>\n",
       "      <td>-1.025662</td>\n",
       "    </tr>\n",
       "    <tr>\n",
       "      <th>17</th>\n",
       "      <td>0.314247</td>\n",
       "      <td>1.003533</td>\n",
       "      <td>2.632028</td>\n",
       "      <td>1.628495</td>\n",
       "    </tr>\n",
       "    <tr>\n",
       "      <th>18</th>\n",
       "      <td>-0.908024</td>\n",
       "      <td>0.361636</td>\n",
       "      <td>-0.454412</td>\n",
       "      <td>-0.816048</td>\n",
       "    </tr>\n",
       "    <tr>\n",
       "      <th>21</th>\n",
       "      <td>-0.225776</td>\n",
       "      <td>1.538037</td>\n",
       "      <td>2.086484</td>\n",
       "      <td>0.548447</td>\n",
       "    </tr>\n",
       "    <tr>\n",
       "      <th>22</th>\n",
       "      <td>0.067528</td>\n",
       "      <td>-0.035826</td>\n",
       "      <td>1.099230</td>\n",
       "      <td>1.135056</td>\n",
       "    </tr>\n",
       "    <tr>\n",
       "      <th>23</th>\n",
       "      <td>-1.424748</td>\n",
       "      <td>1.564644</td>\n",
       "      <td>-0.284853</td>\n",
       "      <td>-1.849496</td>\n",
       "    </tr>\n",
       "    <tr>\n",
       "      <th>25</th>\n",
       "      <td>0.110923</td>\n",
       "      <td>0.821903</td>\n",
       "      <td>2.043748</td>\n",
       "      <td>1.221845</td>\n",
       "    </tr>\n",
       "    <tr>\n",
       "      <th>26</th>\n",
       "      <td>-1.150994</td>\n",
       "      <td>0.087047</td>\n",
       "      <td>-1.214940</td>\n",
       "      <td>-1.301987</td>\n",
       "    </tr>\n",
       "    <tr>\n",
       "      <th>27</th>\n",
       "      <td>0.375698</td>\n",
       "      <td>-0.299007</td>\n",
       "      <td>1.452389</td>\n",
       "      <td>1.751396</td>\n",
       "    </tr>\n",
       "    <tr>\n",
       "      <th>28</th>\n",
       "      <td>-0.600639</td>\n",
       "      <td>0.091761</td>\n",
       "      <td>-0.109517</td>\n",
       "      <td>-0.201277</td>\n",
       "    </tr>\n",
       "    <tr>\n",
       "      <th>29</th>\n",
       "      <td>-0.291694</td>\n",
       "      <td>-1.987569</td>\n",
       "      <td>-1.570956</td>\n",
       "      <td>0.416613</td>\n",
       "    </tr>\n",
       "    <tr>\n",
       "      <th>30</th>\n",
       "      <td>-0.601707</td>\n",
       "      <td>-0.219672</td>\n",
       "      <td>-0.423085</td>\n",
       "      <td>-0.203413</td>\n",
       "    </tr>\n",
       "    <tr>\n",
       "      <th>32</th>\n",
       "      <td>-0.013497</td>\n",
       "      <td>1.477894</td>\n",
       "      <td>2.450900</td>\n",
       "      <td>0.973006</td>\n",
       "    </tr>\n",
       "    <tr>\n",
       "      <th>34</th>\n",
       "      <td>0.822545</td>\n",
       "      <td>-0.808494</td>\n",
       "      <td>1.836596</td>\n",
       "      <td>2.645090</td>\n",
       "    </tr>\n",
       "    <tr>\n",
       "      <th>36</th>\n",
       "      <td>0.208864</td>\n",
       "      <td>0.915402</td>\n",
       "      <td>2.333129</td>\n",
       "      <td>1.417727</td>\n",
       "    </tr>\n",
       "    <tr>\n",
       "      <th>39</th>\n",
       "      <td>0.196861</td>\n",
       "      <td>0.513267</td>\n",
       "      <td>1.906990</td>\n",
       "      <td>1.393722</td>\n",
       "    </tr>\n",
       "    <tr>\n",
       "      <th>40</th>\n",
       "      <td>0.738467</td>\n",
       "      <td>0.097078</td>\n",
       "      <td>2.574011</td>\n",
       "      <td>2.476933</td>\n",
       "    </tr>\n",
       "    <tr>\n",
       "      <th>41</th>\n",
       "      <td>0.171368</td>\n",
       "      <td>0.968645</td>\n",
       "      <td>2.311382</td>\n",
       "      <td>1.342737</td>\n",
       "    </tr>\n",
       "    <tr>\n",
       "      <th>42</th>\n",
       "      <td>-0.115648</td>\n",
       "      <td>-0.702053</td>\n",
       "      <td>0.066650</td>\n",
       "      <td>0.768703</td>\n",
       "    </tr>\n",
       "    <tr>\n",
       "      <th>43</th>\n",
       "      <td>-0.301104</td>\n",
       "      <td>-0.327662</td>\n",
       "      <td>0.070130</td>\n",
       "      <td>0.397793</td>\n",
       "    </tr>\n",
       "    <tr>\n",
       "      <th>46</th>\n",
       "      <td>-0.460639</td>\n",
       "      <td>0.296120</td>\n",
       "      <td>0.374843</td>\n",
       "      <td>0.078722</td>\n",
       "    </tr>\n",
       "    <tr>\n",
       "      <th>48</th>\n",
       "      <td>0.343618</td>\n",
       "      <td>0.005113</td>\n",
       "      <td>1.692350</td>\n",
       "      <td>1.687237</td>\n",
       "    </tr>\n",
       "  </tbody>\n",
       "</table>\n",
       "</div>"
      ],
      "text/plain": [
       "           x         e         y         p\n",
       "0   0.496714  0.324084  2.317512  1.993428\n",
       "1  -0.138264 -0.385082  0.338389  0.723471\n",
       "2   0.647689 -0.676922  1.618455  2.295377\n",
       "4  -0.234153  1.031000  1.562693  0.531693\n",
       "5  -0.234137  0.931280  1.463006  0.531726\n",
       "7   0.767435 -0.309212  2.225657  2.534869\n",
       "8  -0.469474  0.331263  0.392315  0.061051\n",
       "10 -0.463418 -0.479174 -0.406010  0.073165\n",
       "11 -0.465730 -0.185659 -0.117118  0.068540\n",
       "12  0.241962 -1.106335  0.377590  1.483925\n",
       "15 -0.562288  1.356240  1.231665 -0.124575\n",
       "16 -1.012831 -0.072010 -1.097672 -1.025662\n",
       "17  0.314247  1.003533  2.632028  1.628495\n",
       "18 -0.908024  0.361636 -0.454412 -0.816048\n",
       "21 -0.225776  1.538037  2.086484  0.548447\n",
       "22  0.067528 -0.035826  1.099230  1.135056\n",
       "23 -1.424748  1.564644 -0.284853 -1.849496\n",
       "25  0.110923  0.821903  2.043748  1.221845\n",
       "26 -1.150994  0.087047 -1.214940 -1.301987\n",
       "27  0.375698 -0.299007  1.452389  1.751396\n",
       "28 -0.600639  0.091761 -0.109517 -0.201277\n",
       "29 -0.291694 -1.987569 -1.570956  0.416613\n",
       "30 -0.601707 -0.219672 -0.423085 -0.203413\n",
       "32 -0.013497  1.477894  2.450900  0.973006\n",
       "34  0.822545 -0.808494  1.836596  2.645090\n",
       "36  0.208864  0.915402  2.333129  1.417727\n",
       "39  0.196861  0.513267  1.906990  1.393722\n",
       "40  0.738467  0.097078  2.574011  2.476933\n",
       "41  0.171368  0.968645  2.311382  1.342737\n",
       "42 -0.115648 -0.702053  0.066650  0.768703\n",
       "43 -0.301104 -0.327662  0.070130  0.397793\n",
       "46 -0.460639  0.296120  0.374843  0.078722\n",
       "48  0.343618  0.005113  1.692350  1.687237"
      ]
     },
     "execution_count": 24,
     "metadata": {},
     "output_type": "execute_result"
    }
   ],
   "source": [
    "# Note: abs(...) is the absolute value function\n",
    "# Write your own code \n",
<<<<<<< Updated upstream
    "ybar = dataset['y'].mean()\n",
    "stdv_sample = dataset['y'].std()\n",
    "\n",
    "#dataset.query('abs(y-@ybar)<= @stdv_sample')"
=======
    "\n",
    "ybar = dataset['y'].mean()\n",
    "stdv_sample = dataset['y'].std()\n",
    "\n",
    "dataset.query('abs(y-@ybar)<= @stdv_sample')"
>>>>>>> Stashed changes
   ]
  },
  {
   "attachments": {},
   "cell_type": "markdown",
   "metadata": {},
   "source": [
    "# <span style=\"color:darkblue\"> II. Estimate the best fit line</span>\n"
   ]
  },
  {
   "attachments": {},
   "cell_type": "markdown",
   "metadata": {},
   "source": [
    "<font size = \"5\">\n",
    "\n",
    "We have data on $(y,x)$ but we don't know $(b_0,b_1, e)$"
   ]
  },
  {
   "attachments": {},
   "cell_type": "markdown",
   "metadata": {},
   "source": [
    "<font size = \"5\">\n",
    "\n",
    "Let's fit an OLS model\n",
    "\n",
    "- It's a statistical approach to get $(b_0,b_1)$\n",
    "- No need to know how it works but why we want it"
   ]
  },
  {
   "cell_type": "code",
<<<<<<< Updated upstream
   "execution_count": 36,
=======
   "execution_count": 25,
>>>>>>> Stashed changes
   "metadata": {},
   "outputs": [
    {
     "name": "stdout",
     "output_type": "stream",
     "text": [
      "Intel MKL WARNING: Support of Intel(R) Streaming SIMD Extensions 4.2 (Intel(R) SSE4.2) enabled only processors has been deprecated. Intel oneAPI Math Kernel Library 2025.0 will require Intel(R) Advanced Vector Extensions (Intel(R) AVX) instructions.\n"
     ]
    }
   ],
   "source": [
    "#------------------------------------------------------------------------------#\n",
    "# We use the subfunction \"ols()\" in the library \"smf\"\n",
    "#---- (i) The first argument is a string called \"formula\" with the format \n",
    "#-------- \"outcome ~ indepdent_vars\"\n",
    "#----(ii) the second argument is the dataset\n",
    "# The second line fits the model with standard errors \"cov\". In this case we \n",
    "# use \"robust\" standard errors (HC1)\n",
    "#-------------------------------------------------------------------------------#\n",
    "\n",
    "model = smf.ols(formula = 'y ~  x', data = dataset)\n",
    "results = model.fit()\n",
    "\n",
    "# Can also run as one line\n",
    "# results = smf.ols(formula = 'y ~ x',data = dataset).fit(cov = \"HC1\")\n"
   ]
  },
  {
   "cell_type": "code",
   "execution_count": 26,
   "metadata": {},
   "outputs": [
    {
     "name": "stdout",
     "output_type": "stream",
     "text": [
      "Intel MKL WARNING: Support of Intel(R) Streaming SIMD Extensions 4.2 (Intel(R) SSE4.2) enabled only processors has been deprecated. Intel oneAPI Math Kernel Library 2025.0 will require Intel(R) Advanced Vector Extensions (Intel(R) AVX) instructions."
     ]
    },
    {
     "data": {
      "text/plain": [
       "<statsmodels.regression.linear_model.RegressionResultsWrapper at 0x134aee650>"
      ]
     },
     "execution_count": 26,
     "metadata": {},
     "output_type": "execute_result"
    },
    {
     "name": "stdout",
     "output_type": "stream",
     "text": [
      "\n"
     ]
    }
   ],
   "source": [
    "smf.ols(formula = 'y ~  x',data = dataset).fit(cov_type = \"HC1\")\n"
   ]
  },
  {
   "attachments": {},
   "cell_type": "markdown",
   "metadata": {},
   "source": [
    "<font size = \"5\">\n",
    "\n",
    "Compute the estimated best fit line"
   ]
  },
  {
   "cell_type": "code",
<<<<<<< Updated upstream
   "execution_count": 44,
=======
   "execution_count": 27,
>>>>>>> Stashed changes
   "metadata": {},
   "outputs": [
    {
     "name": "stdout",
     "output_type": "stream",
     "text": [
      "Intercept    1.041022\n",
      "x            2.103076\n",
      "dtype: float64\n"
     ]
    },
    {
     "name": "stderr",
     "output_type": "stream",
     "text": [
      "/var/folders/br/87lxdd6141d8wnp9rd5nlpt00000gn/T/ipykernel_33311/2237251491.py:9: FutureWarning: Series.__getitem__ treating keys as positions is deprecated. In a future version, integer keys will always be treated as labels (consistent with DataFrame behavior). To access a value by position, use `ser.iloc[pos]`\n",
      "  dataset[\"p_estimated\"] = b_list[0] + b_list[1]  * dataset[\"x\"]\n"
     ]
    }
   ],
   "source": [
    "# We will use \".params\" to get the attribute \"parameters from the results\"\n",
    "\n",
    "b_list = results.params\n",
    "print(b_list)\n",
    "\n",
    "# We can then compute the \"estimated\" best fit lines\n",
    "# by extracting the intercept and slop from \"b_list\"\n",
    "\n",
    "dataset[\"p_estimated\"] = b_list[0] + b_list[1]  * dataset[\"x\"]\n",
    "\n",
    "# Note: The estimators for \"b0\" and \"b1\" are close to \n",
    "# the values we used to generate the data\n"
   ]
  },
  {
   "cell_type": "code",
   "execution_count": 28,
   "metadata": {},
   "outputs": [
    {
     "data": {
      "text/plain": [
       "Intercept    1.041022\n",
       "x            2.103076\n",
       "dtype: float64"
      ]
     },
     "execution_count": 28,
     "metadata": {},
     "output_type": "execute_result"
    }
   ],
   "source": [
    "results.params"
   ]
  },
  {
   "attachments": {},
   "cell_type": "markdown",
   "metadata": {},
   "source": [
    "<font size = \"5\">\n",
    "\n",
    "Plot the best fit line"
   ]
  },
  {
   "cell_type": "code",
   "execution_count": 29,
   "metadata": {},
   "outputs": [
    {
     "data": {
      "image/png": "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",
      "text/plain": [
       "<Figure size 640x480 with 1 Axes>"
      ]
     },
     "metadata": {},
     "output_type": "display_data"
    }
   ],
   "source": [
    "# Use scatter twice, with different \"y\" inputs\n",
    "# THe \"legend\" command creates a box on with the color labels\n",
    "\n",
    "plt.scatter(x = dataset[\"x\"],y = dataset[\"y\"])\n",
    "plt.plot(dataset[\"x\"],dataset[\"p_estimated\"], color = 'green')\n",
    "\n",
    "plt.legend(labels = [\"Data points\",\"Estimated Predicted Model\"])\n",
    "plt.show()\n"
   ]
  },
  {
   "attachments": {},
   "cell_type": "markdown",
   "metadata": {},
   "source": [
    "<font size = \"5\">\n",
    "\n",
    "Try it yourself!\n",
    "- How good is the estimated fit?\n",
    "- Create two overlapping lineplots\n",
    "- $(p \\text{ }$ vs $\\text{ } x)$ and $(p_{estimated} \\text{ }$ vs $\\text{ } x)$\n",
    "- Create a legend to label each plot"
   ]
  },
  {
   "cell_type": "code",
   "execution_count": 53,
   "metadata": {},
   "outputs": [
    {
     "data": {
      "text/plain": [
<<<<<<< Updated upstream
       "<matplotlib.legend.Legend at 0x2576ff597d0>"
      ]
     },
     "execution_count": 53,
=======
       "<matplotlib.legend.Legend at 0x1369ce2d0>"
      ]
     },
     "execution_count": 35,
>>>>>>> Stashed changes
     "metadata": {},
     "output_type": "execute_result"
    },
    {
     "data": {
<<<<<<< Updated upstream
      "image/png": "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",
=======
      "image/png": "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",
>>>>>>> Stashed changes
      "text/plain": [
       "<Figure size 640x480 with 1 Axes>"
      ]
     },
     "metadata": {},
     "output_type": "display_data"
    }
   ],
   "source": [
    "# Write your own code\n",
<<<<<<< Updated upstream
    "\n",
    "plt.plot(dataset[\"x\"], dataset[\"p\"], '-o', color = 'blue')\n",
    "plt.plot(dataset[\"x\"], dataset[\"p_estimated\"], '-o', color = 'green')\n",
    "\n",
    "plt.legend(labels = [\"Real Model\", \"Estimated Predicted Model\"])"
=======
    "# Create two line plots in which you compare the true value of P on the same regression line \n",
    "\n",
    "plt.plot(dataset[\"x\"],dataset[\"p\"], color = 'blue') \n",
    "plt.plot(dataset[\"x\"],dataset[\"p_estimated\"], color = 'green') \n",
    "\n",
    "plt.legend(labels = [\"Predicted Model\",\"Estimated Predicted Model\"])"
>>>>>>> Stashed changes
   ]
  },
  {
   "attachments": {},
   "cell_type": "markdown",
   "metadata": {},
   "source": [
    "<font size = \"5\">\n",
    "\n",
    "Try it youself\n",
    "\n",
    "- Compute a column with the formula\n",
    "\n",
    "$\\quad$ ``` sample_error = y - p_estimated```\n",
    "\n",
    "- Create a lambda function <br>\n",
    "\n",
    "$\\quad$ ``` fn_positive_error = lambda error: error >= 0  ```\n",
    "\n",
    "- Compute a column for whether the error is positive <br>\n",
    "using ``` .apply()```\n",
    "\n"
   ]
  },
  {
   "cell_type": "code",
   "execution_count": 31,
   "metadata": {},
   "outputs": [],
   "source": [
    "# Write your own code\n"
   ]
  },
  {
   "attachments": {},
   "cell_type": "markdown",
   "metadata": {},
   "source": [
    "<font size = \"5\">\n",
    "\n",
    "Try it yourself\n",
    "\n",
    "- Compute a new column <br>\n",
    "\n",
    "```error_sqr = sample_error ** 2```\n",
    "\n",
    "- Calculate the mean of ```error_sqr```"
   ]
  },
  {
   "cell_type": "code",
   "execution_count": 32,
   "metadata": {},
   "outputs": [],
   "source": [
    "# Write your own code\n"
   ]
  }
 ],
 "metadata": {
  "kernelspec": {
   "display_name": "base",
   "language": "python",
   "name": "python3"
  },
  "language_info": {
   "codemirror_mode": {
    "name": "ipython",
    "version": 3
   },
   "file_extension": ".py",
   "mimetype": "text/x-python",
   "name": "python",
   "nbconvert_exporter": "python",
   "pygments_lexer": "ipython3",
   "version": "3.11.4"
  },
  "orig_nbformat": 4,
  "vscode": {
   "interpreter": {
    "hash": "45fc1f684f6f416f40889115beff3ddf69879b64cf4bfee48cb72a61e9d15d1a"
   }
  }
 },
 "nbformat": 4,
 "nbformat_minor": 2
}
